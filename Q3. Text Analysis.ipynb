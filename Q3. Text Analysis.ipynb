{
 "cells": [
  {
   "cell_type": "markdown",
   "metadata": {},
   "source": [
    "# Answer the questions on the text"
   ]
  },
  {
   "cell_type": "code",
   "execution_count": 1,
   "metadata": {},
   "outputs": [],
   "source": [
    "text = (\"As a term, data analytics predominantly refers to an assortment of applications, from basic business \"\n",
    "        \"intelligence (BI), reporting and online analytical processing (OLAP) to various forms of advanced analytics. \"\n",
    "        \"In that sense, it's similar in nature to business analytics, another umbrella term for approaches to analyzing \"\n",
    "        \"data -- with the difference that the latter is oriented to business uses, while data analytics has a broader \"\n",
    "        \"focus. The expansive view of the term isn't universal, though: In some cases, people use data analytics \"\n",
    "        \"specifically to mean advanced analytics, treating BI as a separate category. Data analytics initiatives can \"\n",
    "        \"help businesses increase revenues, improve operational efficiency, optimize marketing campaigns and customer \"\n",
    "        \"service efforts, respond more quickly to emerging market trends and gain a competitive edge over rivals -- all \"\n",
    "        \"with the ultimate goal of boosting business performance. Depending on the particular application, the data \"\n",
    "        \"that's analyzed can consist of either historical records or new information that has been processed for \"\n",
    "        \"real-time analytics uses. In addition, it can come from a mix of internal systems and external data sources. \"\n",
    "        \"At a high level, data analytics methodologies include exploratory data analysis (EDA), which aims to find \"\n",
    "        \"patterns and relationships in data, and confirmatory data analysis (CDA), which applies statistical techniques \"\n",
    "        \"to determine whether hypotheses about a data set are true or false. EDA is often compared to detective work, \"\n",
    "        \"while CDA is akin to the work of a judge or jury during a court trial -- a distinction first drawn by \"\n",
    "        \"statistician John W. Tukey in his 1977 book Exploratory Data Analysis. Data analytics can also be separated \"\n",
    "        \"into quantitative data analysis and qualitative data analysis. The former involves analysis of numerical data \"\n",
    "        \"with quantifiable variables that can be compared or measured statistically. The qualitative approach is more \"\n",
    "        \"interpretive -- it focuses on understanding the content of non-numerical data like text, images, audio and \"\n",
    "        \"video, including common phrases, themes and points of view.\")"
   ]
  },
  {
   "cell_type": "markdown",
   "metadata": {},
   "source": [
    "## Reading in libraries"
   ]
  },
  {
   "cell_type": "code",
   "execution_count": 14,
   "metadata": {},
   "outputs": [],
   "source": [
    "from collections import Counter\n",
    "from nltk.tokenize import sent_tokenize, wordpunct_tokenize\n",
    "\n",
    "import re\n",
    "import matplotlib.pyplot as plt\n",
    "import seaborn as sns\n",
    "%matplotlib inline"
   ]
  },
  {
   "cell_type": "markdown",
   "metadata": {},
   "source": [
    "# Q1: What is the probability of the word \"data\" occurring in each line?"
   ]
  },
  {
   "cell_type": "markdown",
   "metadata": {},
   "source": [
    "My assumption is that 'each line' means 'each sentence'."
   ]
  },
  {
   "cell_type": "code",
   "execution_count": 5,
   "metadata": {},
   "outputs": [],
   "source": [
    "# # For first time run\n",
    "# import nltk\n",
    "# nltk.download(\"popular\")"
   ]
  },
  {
   "cell_type": "code",
   "execution_count": 6,
   "metadata": {},
   "outputs": [
    {
     "name": "stdout",
     "output_type": "stream",
     "text": [
      "The probability of the word \"data\" occurring in each line is 1.0.\n"
     ]
    }
   ],
   "source": [
    "sentences = sent_tokenize(text)\n",
    "total_sentences = len(sentences)\n",
    "data_sentences_count = 0\n",
    "for sentence in sentences:\n",
    "    if \"data\" in sentence.lower():\n",
    "        data_sentences_count += 1\n",
    "print(f'The probability of the word \"data\" occurring in each line is {round(data_sentences_count/total_sentences, 2)}.')"
   ]
  },
  {
   "cell_type": "markdown",
   "metadata": {},
   "source": [
    "# Q2: What is the distribution of distinct word counts across all the lines?"
   ]
  },
  {
   "cell_type": "code",
   "execution_count": 11,
   "metadata": {},
   "outputs": [],
   "source": [
    "distinct_words_count = []\n",
    "\n",
    "for sentence in sentences:\n",
    "    words = wordpunct_tokenize(sentence)\n",
    "    words = [word.lower() for word in words if word.isalpha()]\n",
    "    distinct_words_count.append(len(set(words)))"
   ]
  },
  {
   "cell_type": "code",
   "execution_count": 15,
   "metadata": {},
   "outputs": [
    {
     "data": {
      "text/plain": [
       "Text(0.5, 0, 'Word Count')"
      ]
     },
     "execution_count": 15,
     "metadata": {},
     "output_type": "execute_result"
    },
    {
     "data": {
      "image/png": "[encoded data removed]",
      "text/plain": [
       "<Figure size 640x480 with 1 Axes>"
      ]
     },
     "metadata": {},
     "output_type": "display_data"
    }
   ],
   "source": [
    "fig, ax = plt.subplots()\n",
    "sns.histplot(distinct_words_count)\n",
    "ax.set_title(\"Number of unique words in each sentence\")\n",
    "ax.set_ylabel(\"Frequency\")\n",
    "ax.set_xlabel(\"Word Count\")"
   ]
  },
  {
   "cell_type": "markdown",
   "metadata": {},
   "source": [
    "# Q3: What is the probability of the word \"analytics\" occurring after the word \"data\"?"
   ]
  },
  {
   "cell_type": "code",
   "execution_count": 16,
   "metadata": {},
   "outputs": [
    {
     "name": "stdout",
     "output_type": "stream",
     "text": [
      "The probability of the word \"analytics\" occurring after the word \"data\" is 0.33.\n"
     ]
    }
   ],
   "source": [
    "data_count = len(re.findall(\"data\", text.lower()))\n",
    "data_analytics_count = len(re.findall(\"data analytics\", text.lower()))\n",
    "print(f'The probability of the word \"analytics\" occurring after the word \"data\" is {round(data_analytics_count/data_count, 2)}.')"
   ]
  },
  {
   "cell_type": "code",
   "execution_count": null,
   "metadata": {},
   "outputs": [],
   "source": []
  }
 ],
 "metadata": {
  "kernelspec": {
   "display_name": "Python 3.8.10 ('venv': venv)",
   "language": "python",
   "name": "python3"
  },
  "language_info": {
   "codemirror_mode": {
    "name": "ipython",
    "version": 3
   },
   "file_extension": ".py",
   "mimetype": "text/x-python",
   "name": "python",
   "nbconvert_exporter": "python",
   "pygments_lexer": "ipython3",
   "version": "3.8.10"
  },
  "orig_nbformat": 4,
  "vscode": {
   "interpreter": {
    "hash": "e842f8eed761454564adcd3254bd7cd5d7263789ec36876208cf93de356b1557"
   }
  }
 },
 "nbformat": 4,
 "nbformat_minor": 2
}
